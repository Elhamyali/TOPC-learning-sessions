{
  "nbformat": 4,
  "nbformat_minor": 0,
  "metadata": {
    "colab": {
      "provenance": [],
      "include_colab_link": true
    },
    "kernelspec": {
      "name": "python3",
      "display_name": "Python 3"
    },
    "language_info": {
      "name": "python"
    }
  },
  "cells": [
    {
      "cell_type": "markdown",
      "metadata": {
        "id": "view-in-github",
        "colab_type": "text"
      },
      "source": [
        "<a href=\"https://colab.research.google.com/github/Elhamyali/TOPC-learning-sessions/blob/main/Learning_Session_Poll_Analysis.ipynb\" target=\"_parent\"><img src=\"https://colab.research.google.com/assets/colab-badge.svg\" alt=\"Open In Colab\"/></a>"
      ]
    },
    {
      "cell_type": "markdown",
      "source": [
        "# Key Insights"
      ],
      "metadata": {
        "id": "kNfVVNih2xA7"
      }
    },
    {
      "cell_type": "markdown",
      "source": [
        "The below insights and code are based on four learning sessions in the TOPC program:\n",
        "\n",
        "*   Systems mapping (data not available)\n",
        "*   Data governance\n",
        "*   User testing\n",
        "*   Impact evaluation\n",
        "*   Product launch\n",
        "\n",
        "Overall, the highest level of confidence is \"Analysis\", followed by \"Knowledge and Comprehension\", and then \"Application\". We excluded \"Evaluation\" as an educational learning objective because it was only measured in one learning session.\n",
        "\n",
        "This means that in general participants rated:\n",
        "\n",
        "- **Very confident** in analysis; drawing connections among ideas (e.x. how user testing fits into iterating a prototype)\n",
        "- **Moderately confident** in knowledge and comprehension; recognizing facts and understanding what they mean (e.x. Describe phases of user testing)\n",
        "- **Moderately confident** in application; applying the facts, rules, concepts, and ideas (e.x. Model design sprint into a real-life city project)\n",
        "\n",
        "The box plots visually represent the distribution of responses and their spread, providing insights into the overall confidence levels in each category."
      ],
      "metadata": {
        "id": "hZ6mqKguL7SF"
      }
    },
    {
      "cell_type": "markdown",
      "source": [
        "# Import necessary libraries\n"
      ],
      "metadata": {
        "id": "vunplEFXbDeZ"
      }
    },
    {
      "cell_type": "code",
      "source": [
        "import numpy as np\n",
        "import matplotlib.pyplot as plt\n",
        "import pandas as pd\n",
        "from scipy.stats import norm"
      ],
      "metadata": {
        "id": "ZBHUljnry5Wq"
      },
      "execution_count": 1,
      "outputs": []
    },
    {
      "cell_type": "markdown",
      "source": [
        "# Read the data"
      ],
      "metadata": {
        "id": "g-_82yu5zGvy"
      }
    },
    {
      "cell_type": "code",
      "source": [
        "from google.colab import drive\n",
        "drive.mount('/content/drive')\n",
        "\n",
        "df = pd.read_csv('/content/drive/Shareddrives/Beeck Center Shared Drive/2. Programs + Projects/1. Projects/TOPC - The Opportunity Project for Cities/Curriculum Development/Learning Sessions (Beeck Internal)/Metrics /2023 Analysis/Learning Session Poll Analysis - For Analysis.csv')\n",
        "df.head()"
      ],
      "metadata": {
        "id": "YX0bMtQ24Vr_",
        "colab": {
          "base_uri": "https://localhost:8080/",
          "height": 284
        },
        "outputId": "8c6bdb78-4a7d-4f1e-c2c0-ee9c97f637cd"
      },
      "execution_count": 6,
      "outputs": [
        {
          "output_type": "stream",
          "name": "stdout",
          "text": [
            "Drive already mounted at /content/drive; to attempt to forcibly remount, call drive.mount(\"/content/drive\", force_remount=True).\n"
          ]
        },
        {
          "output_type": "execute_result",
          "data": {
            "text/plain": [
              "      Session Name      Confidence level  Knowledge and comprehension  \\\n",
              "0  Data governance        Very confident                          8.0   \n",
              "1              NaN  Moderately confident                          9.0   \n",
              "2              NaN    Somewhat confident                          1.0   \n",
              "3              NaN  Not confident at all                          0.0   \n",
              "4              NaN                   NaN                          NaN   \n",
              "\n",
              "   Application  Analysis  Evaluation  \n",
              "0          7.0      12.0         8.0  \n",
              "1         10.0       5.0         8.0  \n",
              "2          0.0       0.0         1.0  \n",
              "3          1.0       1.0         1.0  \n",
              "4          NaN       NaN         NaN  "
            ],
            "text/html": [
              "\n",
              "  <div id=\"df-d7d7258c-d273-45de-ab6f-77c7917c5b08\" class=\"colab-df-container\">\n",
              "    <div>\n",
              "<style scoped>\n",
              "    .dataframe tbody tr th:only-of-type {\n",
              "        vertical-align: middle;\n",
              "    }\n",
              "\n",
              "    .dataframe tbody tr th {\n",
              "        vertical-align: top;\n",
              "    }\n",
              "\n",
              "    .dataframe thead th {\n",
              "        text-align: right;\n",
              "    }\n",
              "</style>\n",
              "<table border=\"1\" class=\"dataframe\">\n",
              "  <thead>\n",
              "    <tr style=\"text-align: right;\">\n",
              "      <th></th>\n",
              "      <th>Session Name</th>\n",
              "      <th>Confidence level</th>\n",
              "      <th>Knowledge and comprehension</th>\n",
              "      <th>Application</th>\n",
              "      <th>Analysis</th>\n",
              "      <th>Evaluation</th>\n",
              "    </tr>\n",
              "  </thead>\n",
              "  <tbody>\n",
              "    <tr>\n",
              "      <th>0</th>\n",
              "      <td>Data governance</td>\n",
              "      <td>Very confident</td>\n",
              "      <td>8.0</td>\n",
              "      <td>7.0</td>\n",
              "      <td>12.0</td>\n",
              "      <td>8.0</td>\n",
              "    </tr>\n",
              "    <tr>\n",
              "      <th>1</th>\n",
              "      <td>NaN</td>\n",
              "      <td>Moderately confident</td>\n",
              "      <td>9.0</td>\n",
              "      <td>10.0</td>\n",
              "      <td>5.0</td>\n",
              "      <td>8.0</td>\n",
              "    </tr>\n",
              "    <tr>\n",
              "      <th>2</th>\n",
              "      <td>NaN</td>\n",
              "      <td>Somewhat confident</td>\n",
              "      <td>1.0</td>\n",
              "      <td>0.0</td>\n",
              "      <td>0.0</td>\n",
              "      <td>1.0</td>\n",
              "    </tr>\n",
              "    <tr>\n",
              "      <th>3</th>\n",
              "      <td>NaN</td>\n",
              "      <td>Not confident at all</td>\n",
              "      <td>0.0</td>\n",
              "      <td>1.0</td>\n",
              "      <td>1.0</td>\n",
              "      <td>1.0</td>\n",
              "    </tr>\n",
              "    <tr>\n",
              "      <th>4</th>\n",
              "      <td>NaN</td>\n",
              "      <td>NaN</td>\n",
              "      <td>NaN</td>\n",
              "      <td>NaN</td>\n",
              "      <td>NaN</td>\n",
              "      <td>NaN</td>\n",
              "    </tr>\n",
              "  </tbody>\n",
              "</table>\n",
              "</div>\n",
              "    <div class=\"colab-df-buttons\">\n",
              "\n",
              "  <div class=\"colab-df-container\">\n",
              "    <button class=\"colab-df-convert\" onclick=\"convertToInteractive('df-d7d7258c-d273-45de-ab6f-77c7917c5b08')\"\n",
              "            title=\"Convert this dataframe to an interactive table.\"\n",
              "            style=\"display:none;\">\n",
              "\n",
              "  <svg xmlns=\"http://www.w3.org/2000/svg\" height=\"24px\" viewBox=\"0 -960 960 960\">\n",
              "    <path d=\"M120-120v-720h720v720H120Zm60-500h600v-160H180v160Zm220 220h160v-160H400v160Zm0 220h160v-160H400v160ZM180-400h160v-160H180v160Zm440 0h160v-160H620v160ZM180-180h160v-160H180v160Zm440 0h160v-160H620v160Z\"/>\n",
              "  </svg>\n",
              "    </button>\n",
              "\n",
              "  <style>\n",
              "    .colab-df-container {\n",
              "      display:flex;\n",
              "      gap: 12px;\n",
              "    }\n",
              "\n",
              "    .colab-df-convert {\n",
              "      background-color: #E8F0FE;\n",
              "      border: none;\n",
              "      border-radius: 50%;\n",
              "      cursor: pointer;\n",
              "      display: none;\n",
              "      fill: #1967D2;\n",
              "      height: 32px;\n",
              "      padding: 0 0 0 0;\n",
              "      width: 32px;\n",
              "    }\n",
              "\n",
              "    .colab-df-convert:hover {\n",
              "      background-color: #E2EBFA;\n",
              "      box-shadow: 0px 1px 2px rgba(60, 64, 67, 0.3), 0px 1px 3px 1px rgba(60, 64, 67, 0.15);\n",
              "      fill: #174EA6;\n",
              "    }\n",
              "\n",
              "    .colab-df-buttons div {\n",
              "      margin-bottom: 4px;\n",
              "    }\n",
              "\n",
              "    [theme=dark] .colab-df-convert {\n",
              "      background-color: #3B4455;\n",
              "      fill: #D2E3FC;\n",
              "    }\n",
              "\n",
              "    [theme=dark] .colab-df-convert:hover {\n",
              "      background-color: #434B5C;\n",
              "      box-shadow: 0px 1px 3px 1px rgba(0, 0, 0, 0.15);\n",
              "      filter: drop-shadow(0px 1px 2px rgba(0, 0, 0, 0.3));\n",
              "      fill: #FFFFFF;\n",
              "    }\n",
              "  </style>\n",
              "\n",
              "    <script>\n",
              "      const buttonEl =\n",
              "        document.querySelector('#df-d7d7258c-d273-45de-ab6f-77c7917c5b08 button.colab-df-convert');\n",
              "      buttonEl.style.display =\n",
              "        google.colab.kernel.accessAllowed ? 'block' : 'none';\n",
              "\n",
              "      async function convertToInteractive(key) {\n",
              "        const element = document.querySelector('#df-d7d7258c-d273-45de-ab6f-77c7917c5b08');\n",
              "        const dataTable =\n",
              "          await google.colab.kernel.invokeFunction('convertToInteractive',\n",
              "                                                    [key], {});\n",
              "        if (!dataTable) return;\n",
              "\n",
              "        const docLinkHtml = 'Like what you see? Visit the ' +\n",
              "          '<a target=\"_blank\" href=https://colab.research.google.com/notebooks/data_table.ipynb>data table notebook</a>'\n",
              "          + ' to learn more about interactive tables.';\n",
              "        element.innerHTML = '';\n",
              "        dataTable['output_type'] = 'display_data';\n",
              "        await google.colab.output.renderOutput(dataTable, element);\n",
              "        const docLink = document.createElement('div');\n",
              "        docLink.innerHTML = docLinkHtml;\n",
              "        element.appendChild(docLink);\n",
              "      }\n",
              "    </script>\n",
              "  </div>\n",
              "\n",
              "\n",
              "<div id=\"df-d11b296c-4d8f-4e5f-8024-87eb4d8bebee\">\n",
              "  <button class=\"colab-df-quickchart\" onclick=\"quickchart('df-d11b296c-4d8f-4e5f-8024-87eb4d8bebee')\"\n",
              "            title=\"Suggest charts.\"\n",
              "            style=\"display:none;\">\n",
              "\n",
              "<svg xmlns=\"http://www.w3.org/2000/svg\" height=\"24px\"viewBox=\"0 0 24 24\"\n",
              "     width=\"24px\">\n",
              "    <g>\n",
              "        <path d=\"M19 3H5c-1.1 0-2 .9-2 2v14c0 1.1.9 2 2 2h14c1.1 0 2-.9 2-2V5c0-1.1-.9-2-2-2zM9 17H7v-7h2v7zm4 0h-2V7h2v10zm4 0h-2v-4h2v4z\"/>\n",
              "    </g>\n",
              "</svg>\n",
              "  </button>\n",
              "\n",
              "<style>\n",
              "  .colab-df-quickchart {\n",
              "      --bg-color: #E8F0FE;\n",
              "      --fill-color: #1967D2;\n",
              "      --hover-bg-color: #E2EBFA;\n",
              "      --hover-fill-color: #174EA6;\n",
              "      --disabled-fill-color: #AAA;\n",
              "      --disabled-bg-color: #DDD;\n",
              "  }\n",
              "\n",
              "  [theme=dark] .colab-df-quickchart {\n",
              "      --bg-color: #3B4455;\n",
              "      --fill-color: #D2E3FC;\n",
              "      --hover-bg-color: #434B5C;\n",
              "      --hover-fill-color: #FFFFFF;\n",
              "      --disabled-bg-color: #3B4455;\n",
              "      --disabled-fill-color: #666;\n",
              "  }\n",
              "\n",
              "  .colab-df-quickchart {\n",
              "    background-color: var(--bg-color);\n",
              "    border: none;\n",
              "    border-radius: 50%;\n",
              "    cursor: pointer;\n",
              "    display: none;\n",
              "    fill: var(--fill-color);\n",
              "    height: 32px;\n",
              "    padding: 0;\n",
              "    width: 32px;\n",
              "  }\n",
              "\n",
              "  .colab-df-quickchart:hover {\n",
              "    background-color: var(--hover-bg-color);\n",
              "    box-shadow: 0 1px 2px rgba(60, 64, 67, 0.3), 0 1px 3px 1px rgba(60, 64, 67, 0.15);\n",
              "    fill: var(--button-hover-fill-color);\n",
              "  }\n",
              "\n",
              "  .colab-df-quickchart-complete:disabled,\n",
              "  .colab-df-quickchart-complete:disabled:hover {\n",
              "    background-color: var(--disabled-bg-color);\n",
              "    fill: var(--disabled-fill-color);\n",
              "    box-shadow: none;\n",
              "  }\n",
              "\n",
              "  .colab-df-spinner {\n",
              "    border: 2px solid var(--fill-color);\n",
              "    border-color: transparent;\n",
              "    border-bottom-color: var(--fill-color);\n",
              "    animation:\n",
              "      spin 1s steps(1) infinite;\n",
              "  }\n",
              "\n",
              "  @keyframes spin {\n",
              "    0% {\n",
              "      border-color: transparent;\n",
              "      border-bottom-color: var(--fill-color);\n",
              "      border-left-color: var(--fill-color);\n",
              "    }\n",
              "    20% {\n",
              "      border-color: transparent;\n",
              "      border-left-color: var(--fill-color);\n",
              "      border-top-color: var(--fill-color);\n",
              "    }\n",
              "    30% {\n",
              "      border-color: transparent;\n",
              "      border-left-color: var(--fill-color);\n",
              "      border-top-color: var(--fill-color);\n",
              "      border-right-color: var(--fill-color);\n",
              "    }\n",
              "    40% {\n",
              "      border-color: transparent;\n",
              "      border-right-color: var(--fill-color);\n",
              "      border-top-color: var(--fill-color);\n",
              "    }\n",
              "    60% {\n",
              "      border-color: transparent;\n",
              "      border-right-color: var(--fill-color);\n",
              "    }\n",
              "    80% {\n",
              "      border-color: transparent;\n",
              "      border-right-color: var(--fill-color);\n",
              "      border-bottom-color: var(--fill-color);\n",
              "    }\n",
              "    90% {\n",
              "      border-color: transparent;\n",
              "      border-bottom-color: var(--fill-color);\n",
              "    }\n",
              "  }\n",
              "</style>\n",
              "\n",
              "  <script>\n",
              "    async function quickchart(key) {\n",
              "      const quickchartButtonEl =\n",
              "        document.querySelector('#' + key + ' button');\n",
              "      quickchartButtonEl.disabled = true;  // To prevent multiple clicks.\n",
              "      quickchartButtonEl.classList.add('colab-df-spinner');\n",
              "      try {\n",
              "        const charts = await google.colab.kernel.invokeFunction(\n",
              "            'suggestCharts', [key], {});\n",
              "      } catch (error) {\n",
              "        console.error('Error during call to suggestCharts:', error);\n",
              "      }\n",
              "      quickchartButtonEl.classList.remove('colab-df-spinner');\n",
              "      quickchartButtonEl.classList.add('colab-df-quickchart-complete');\n",
              "    }\n",
              "    (() => {\n",
              "      let quickchartButtonEl =\n",
              "        document.querySelector('#df-d11b296c-4d8f-4e5f-8024-87eb4d8bebee button');\n",
              "      quickchartButtonEl.style.display =\n",
              "        google.colab.kernel.accessAllowed ? 'block' : 'none';\n",
              "    })();\n",
              "  </script>\n",
              "</div>\n",
              "    </div>\n",
              "  </div>\n"
            ]
          },
          "metadata": {},
          "execution_count": 6
        }
      ]
    },
    {
      "cell_type": "markdown",
      "source": [
        "# Define a dictionary\n",
        "\n"
      ],
      "metadata": {
        "id": "zShI3x_8y8E1"
      }
    },
    {
      "cell_type": "code",
      "source": [
        "confidence_weights = {\n",
        "    'Very confident': 4,\n",
        "    'Moderately confident': 3,\n",
        "    'Somewhat confident': 2,\n",
        "    'Not at all confident': 1,\n",
        "    'Not confident at all': 1\n",
        "}\n",
        "\n",
        "print(df['Confidence level'].unique())\n",
        "\n",
        "weighted_data = {}\n",
        "summary_stats = {}"
      ],
      "metadata": {
        "id": "pdamFEjGzDqp",
        "colab": {
          "base_uri": "https://localhost:8080/"
        },
        "outputId": "8ee9f1ec-3fb3-4cab-d3cf-f534330e76e9"
      },
      "execution_count": 7,
      "outputs": [
        {
          "output_type": "stream",
          "name": "stdout",
          "text": [
            "['Very confident' 'Moderately confident' 'Somewhat confident'\n",
            " 'Not confident at all' nan]\n"
          ]
        }
      ]
    },
    {
      "cell_type": "markdown",
      "source": [
        "# Calculate summary statistics per category"
      ],
      "metadata": {
        "id": "6GYQJY0h1T7j"
      }
    },
    {
      "cell_type": "code",
      "source": [
        "weighted_data = {}\n",
        "summary_stats = {}\n",
        "\n",
        "for category in df.columns[2:]:\n",
        "    weighted_data[category] = []\n",
        "    for i, row in df.iterrows():\n",
        "        if pd.isna(row[category]):\n",
        "            continue\n",
        "        weight = confidence_weights[row['Confidence level']]\n",
        "        count = int(row[category])\n",
        "        weighted_data[category].extend([weight] * count)\n",
        "\n",
        "    summary_stats[category] = {\n",
        "        'Mean': np.mean(weighted_data[category]),\n",
        "        'Median': np.median(weighted_data[category]),\n",
        "        'StdDev': np.std(weighted_data[category], ddof=1),\n",
        "        'Q1': np.percentile(weighted_data[category], 25),\n",
        "        'Q3': np.percentile(weighted_data[category], 75),\n",
        "        'Min': np.min(weighted_data[category]),\n",
        "        'Max': np.max(weighted_data[category])\n",
        "    }\n",
        "\n",
        "for key, stats in summary_stats.items():\n",
        "    print(f\"\\n{key}:\")\n",
        "    for stat, value in stats.items():\n",
        "        print(f\"{stat}: {value:.2f}\")\n"
      ],
      "metadata": {
        "colab": {
          "base_uri": "https://localhost:8080/"
        },
        "id": "MhtXoDxa1btj",
        "outputId": "b9fa2a34-9e93-4ad3-d034-5c46394f2c5d"
      },
      "execution_count": 8,
      "outputs": [
        {
          "output_type": "stream",
          "name": "stdout",
          "text": [
            "\n",
            "Knowledge and comprehension:\n",
            "Mean: 3.08\n",
            "Median: 3.00\n",
            "StdDev: 0.73\n",
            "Q1: 3.00\n",
            "Q3: 4.00\n",
            "Min: 2.00\n",
            "Max: 4.00\n",
            "\n",
            "Application:\n",
            "Mean: 3.23\n",
            "Median: 3.00\n",
            "StdDev: 0.70\n",
            "Q1: 3.00\n",
            "Q3: 4.00\n",
            "Min: 1.00\n",
            "Max: 4.00\n",
            "\n",
            "Analysis:\n",
            "Mean: 3.40\n",
            "Median: 3.50\n",
            "StdDev: 0.71\n",
            "Q1: 3.00\n",
            "Q3: 4.00\n",
            "Min: 1.00\n",
            "Max: 4.00\n",
            "\n",
            "Evaluation:\n",
            "Mean: 3.28\n",
            "Median: 3.00\n",
            "StdDev: 0.83\n",
            "Q1: 3.00\n",
            "Q3: 4.00\n",
            "Min: 1.00\n",
            "Max: 4.00\n"
          ]
        }
      ]
    },
    {
      "cell_type": "markdown",
      "source": [
        "# Create box plots of confidence levels across educational learning objectives"
      ],
      "metadata": {
        "id": "7fs4bfQUoDvg"
      }
    },
    {
      "cell_type": "code",
      "source": [
        "from matplotlib import rcParams\n",
        "\n",
        "rcParams['font.family'] = 'sans-serif'\n",
        "rcParams['font.sans-serif'] = ['Open Sans'] + rcParams['font.sans-serif']\n",
        "\n",
        "sorted_keys = sorted(weighted_data.keys(), key=lambda x: np.median(weighted_data[x]))\n",
        "sorted_data = [weighted_data[key] for key in sorted_keys]\n",
        "\n",
        "plt.figure(figsize=(12, 8))\n",
        "ax = plt.gca()\n",
        "ax.spines['top'].set_visible(False)\n",
        "ax.spines['right'].set_visible(False)\n",
        "ax.spines['left'].set_visible(False)\n",
        "\n",
        "bp = plt.boxplot(sorted_data, vert=False, patch_artist=True, labels=None)\n",
        "ax.set_yticklabels(sorted_keys)\n",
        "\n",
        "for patch, median in zip(bp['boxes'], bp['medians']):\n",
        "    patch.set_facecolor('#206095')\n",
        "    median.set(color='#F66068', linewidth=2)\n",
        "\n",
        "plt.title('Boxplot of Confidence Levels Across Educational Learning Objectives', fontweight='bold')\n",
        "\n",
        "ax.xaxis.grid(True, linestyle='--', which='major', color='#B3B3B3', alpha=1.0)\n",
        "ax.yaxis.grid(False)\n",
        "\n",
        "plt.xlabel('Confidence Level (Weighted)')\n",
        "plt.show()"
      ],
      "metadata": {
        "colab": {
          "base_uri": "https://localhost:8080/",
          "height": 624
        },
        "id": "Mv1J8Ejms4__",
        "outputId": "f547df91-7063-4b33-9328-78efd2e1e1b1"
      },
      "execution_count": 9,
      "outputs": [
        {
          "output_type": "display_data",
          "data": {
            "text/plain": [
              "<Figure size 1200x800 with 1 Axes>"
            ],
            "image/png": "[encoded data removed]"
          },
          "metadata": {}
        }
      ]
    }
  ]
}