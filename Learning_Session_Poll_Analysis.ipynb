{
  "nbformat": 4,
  "nbformat_minor": 0,
  "metadata": {
    "colab": {
      "provenance": [],
      "authorship_tag": "ABX9TyNw6PVKIIfZoDwi0uwpkm5b",
      "include_colab_link": true
    },
    "kernelspec": {
      "name": "python3",
      "display_name": "Python 3"
    },
    "language_info": {
      "name": "python"
    }
  },
  "cells": [
    {
      "cell_type": "markdown",
      "metadata": {
        "id": "view-in-github",
        "colab_type": "text"
      },
      "source": [
        "<a href=\"https://colab.research.google.com/github/Elhamyali/TOPC-learning-sessions/blob/main/Learning_Session_Poll_Analysis.ipynb\" target=\"_parent\"><img src=\"https://colab.research.google.com/assets/colab-badge.svg\" alt=\"Open In Colab\"/></a>"
      ]
    },
    {
      "cell_type": "markdown",
      "source": [
        "**TL;DR** The highest level of confidence is for \"Analysis\", followed by \"Knowledge and Comprehension\", and then \"Application\". This means that in general participants rated:\n",
        "\n",
        "- **Very confident** in drawing connections among ideas (e.x. how user testing fits into iterating a prototype)\n",
        "- **Moderately confident** in recognizing facts and understanding what they mean (e.x. Describe phases of user testing)\n",
        "- **Moderately confident** in applying the facts, rules, concepts, and ideas (e.x. Model design sprint into a real-life city project)\n",
        "\n",
        "The box plots visually represent the distribution of responses and their spread, providing insights into the overall confidence levels in each category.\n",
        "\n",
        "**Knowledge and Comprehension**\n",
        "\n",
        "- The majority of the data points are around the \"Moderately confident\" to \"Very confident\" range.\n",
        "- The median is closer to \"Moderately confident\", indicating that half of the responses are at this level or below.\n",
        "- There's a smaller spread in the lower half (from Q1 to the median) compared to the upper half (from the median to Q3), suggesting that there are more responses clustered around the \"Moderately confident\" level.\n",
        "\n",
        "**Application:**\n",
        "\n",
        "- The data is more spread out compared to \"Knowledge and Comprehension\".\n",
        "- The median is at the \"Moderately confident\" level, but there's a wider spread in the data, especially towards the \"Very confident\" level.\n",
        "\n",
        "**Analysis:**\n",
        "\n",
        "- Most of the responses are at the \"Very confident\" level.\n",
        "- The spread of the data is more towards the upper end, with the median also being at the \"Very confident\" level."
      ],
      "metadata": {
        "id": "hZ6mqKguL7SF"
      }
    },
    {
      "cell_type": "code",
      "source": [
        "import numpy as np\n",
        "import matplotlib.pyplot as plt\n",
        "\n",
        "# Reconstructing the dataset with weights to each confidence level\n",
        "# \"Very confident\" is represented by the number 4\n",
        "# \"Moderately confident\" is represented by the number 3\n",
        "# \"Somewhat confident\" is represented by the number 2\n",
        "# \"Not at all confident\" is represented by the number 1\n",
        "knowledge_and_comprehension = [4]*8 + [3]*9 + [2]*1 + [1]*0\n",
        "application = [4]*7 + [3]*10 + [2]*0 + [1]*1\n",
        "analysis = [4]*12 + [3]*5 + [2]*0 + [1]*1\n",
        "\n",
        "datasets = {\n",
        "    'Knowledge and Comprehension': knowledge_and_comprehension,\n",
        "    'Application': application,\n",
        "    'Analysis': analysis\n",
        "}\n",
        "\n",
        "# Calculate summary statistics\n",
        "summary_stats = {}\n",
        "for key, data in datasets.items():\n",
        "    summary_stats[key] = {\n",
        "        'Mean': np.mean(data),\n",
        "        'Median': np.median(data),\n",
        "        'StdDev': np.std(data, ddof=1),\n",
        "        'Q1': np.percentile(data, 25),\n",
        "        'Q3': np.percentile(data, 75),\n",
        "        'Min': np.min(data),\n",
        "        'Max': np.max(data)\n",
        "    }\n",
        "\n",
        "# Print summary statistics\n",
        "for key, stats in summary_stats.items():\n",
        "    print(f\"\\n{key}:\")\n",
        "    for stat, value in stats.items():\n",
        "        print(f\"{stat}: {value:.2f}\")\n",
        "\n",
        "# Plot box plots\n",
        "plt.boxplot(datasets.values(), vert=False, patch_artist=True, labels=datasets.keys())\n",
        "plt.title('Boxplots for Each Column')\n",
        "plt.xlabel('Confidence Level')\n",
        "plt.show()"
      ],
      "metadata": {
        "colab": {
          "base_uri": "https://localhost:8080/",
          "height": 954
        },
        "id": "TiihLpp6LhTU",
        "outputId": "dbedcbe2-a782-4eb6-8a8a-4e7d058938dd"
      },
      "execution_count": 2,
      "outputs": [
        {
          "output_type": "stream",
          "name": "stdout",
          "text": [
            "\n",
            "Knowledge and Comprehension:\n",
            "Mean: 3.39\n",
            "Median: 3.00\n",
            "StdDev: 0.61\n",
            "Q1: 3.00\n",
            "Q3: 4.00\n",
            "Min: 2.00\n",
            "Max: 4.00\n",
            "\n",
            "Application:\n",
            "Mean: 3.28\n",
            "Median: 3.00\n",
            "StdDev: 0.75\n",
            "Q1: 3.00\n",
            "Q3: 4.00\n",
            "Min: 1.00\n",
            "Max: 4.00\n",
            "\n",
            "Analysis:\n",
            "Mean: 3.56\n",
            "Median: 4.00\n",
            "StdDev: 0.78\n",
            "Q1: 3.00\n",
            "Q3: 4.00\n",
            "Min: 1.00\n",
            "Max: 4.00\n"
          ]
        },
        {
          "output_type": "display_data",
          "data": {
            "text/plain": [
              "<Figure size 640x480 with 1 Axes>"
            ],
            "image/png": "[encoded data removed]"
          },
          "metadata": {}
        }
      ]
    }
  ]
}